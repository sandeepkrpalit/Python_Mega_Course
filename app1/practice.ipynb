{
 "cells": [
  {
   "cell_type": "code",
   "execution_count": 7,
   "metadata": {},
   "outputs": [
    {
     "name": "stdout",
     "output_type": "stream",
     "text": [
      "Set The Alarm\n",
      "['set the alarm']\n",
      "Switch Off The Lights\n",
      "['set the alarm', 'switch off the lights']\n"
     ]
    }
   ],
   "source": [
    "#While loop and usage of inbuilt methods for string and list\n",
    "user_prompt = \"Enter a todo:\"\n",
    "todos = []\n",
    "x=0\n",
    "\n",
    "while x<2:\n",
    "    todo = input(user_prompt)\n",
    "    print(todo.title())\n",
    "    todos.append(todo)\n",
    "    print(todos)\n",
    "    x += 1"
   ]
  },
  {
   "cell_type": "code",
   "execution_count": 9,
   "metadata": {},
   "outputs": [
    {
     "name": "stdout",
     "output_type": "stream",
     "text": [
      "['wake up at 6:00 am', 'black coffee', 'go for run', 'breakfast']\n",
      "Bye!\n"
     ]
    }
   ],
   "source": [
    "## match-case statement\n",
    "todos = []\n",
    "\n",
    "while True:\n",
    "    user_action = input(\"Type add, show or exit: \")\n",
    "\n",
    "    match user_action:\n",
    "        case 'add':\n",
    "            todo = input(\"Enter a todo: \")\n",
    "            todos.append(todo)\n",
    "        case 'show':\n",
    "            print(todos)\n",
    "        case exit:\n",
    "            break\n",
    "print(\"Bye!\")"
   ]
  },
  {
   "cell_type": "code",
   "execution_count": null,
   "metadata": {},
   "outputs": [],
   "source": []
  },
  {
   "cell_type": "code",
   "execution_count": null,
   "metadata": {},
   "outputs": [],
   "source": []
  }
 ],
 "metadata": {
  "kernelspec": {
   "display_name": "PythonMegaCourse",
   "language": "python",
   "name": "python3"
  },
  "language_info": {
   "codemirror_mode": {
    "name": "ipython",
    "version": 3
   },
   "file_extension": ".py",
   "mimetype": "text/x-python",
   "name": "python",
   "nbconvert_exporter": "python",
   "pygments_lexer": "ipython3",
   "version": "3.10.14"
  }
 },
 "nbformat": 4,
 "nbformat_minor": 2
}
